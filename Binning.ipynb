{
 "cells": [
  {
   "cell_type": "code",
   "execution_count": 50,
   "metadata": {},
   "outputs": [],
   "source": [
    "import matplotlib as mpl\n",
    "mpl.use('TkAgg')\n",
    "import sys, os\n",
    "import pandas as pd\n",
    "import numpy as np\n",
    "import scipy.spatial as sc\n",
    "import matplotlib.pyplot as plt\n",
    "from matplotlib.path import Path\n"
   ]
  },
  {
   "cell_type": "code",
   "execution_count": 51,
   "metadata": {},
   "outputs": [],
   "source": [
    "contig_data = pd.read_table('/home/bram/Documents/manual_binning/contig_statistics.txt')\n",
    "contig_data['average_coverage'] = np.log10(contig_data['average_coverage'])\n",
    "selection = contig_data['length'] > 500\n",
    "contig_data_red = contig_data[selection]\n",
    "fig, ax = plt.subplots(1, figsize=(15,15))\n",
    "ax.scatter(contig_data_red['GC'], contig_data_red['average_coverage'])\n",
    "fig.show()"
   ]
  },
  {
   "cell_type": "code",
   "execution_count": 52,
   "metadata": {},
   "outputs": [],
   "source": [
    "hullpoints = plt.ginput(6, show_clicks=True)"
   ]
  },
  {
   "cell_type": "code",
   "execution_count": 53,
   "metadata": {},
   "outputs": [
    {
     "name": "stdout",
     "output_type": "stream",
     "text": [
      "[[48.90726019180086, 3.1000799914239354], [48.90726019180086, 0.5779141815996662], [78.18934115725548, 0.629386953228733], [78.29101504949665, 3.0691963284464956], [68.25919101503534, 3.065764810337891], [59.41356239005425, 3.065764810337891]]\n"
     ]
    }
   ],
   "source": [
    "hullpoints = [list(x) for x in hullpoints]\n",
    "print(hullpoints)"
   ]
  },
  {
   "cell_type": "code",
   "execution_count": 54,
   "metadata": {},
   "outputs": [
    {
     "name": "stdout",
     "output_type": "stream",
     "text": [
      "[3 0]\n",
      "(3.0691963284464956, 78.29101504949665)\n",
      "(3.1000799914239354, 48.90726019180086)\n",
      "[1 0]\n",
      "(0.5779141815996662, 48.90726019180086)\n",
      "(3.1000799914239354, 48.90726019180086)\n",
      "[2 3]\n",
      "(0.629386953228733, 78.18934115725548)\n",
      "(3.0691963284464956, 78.29101504949665)\n",
      "[2 1]\n",
      "(0.629386953228733, 78.18934115725548)\n",
      "(0.5779141815996662, 48.90726019180086)\n"
     ]
    }
   ],
   "source": [
    "hull = sc.ConvexHull(hullpoints)\n",
    "for simplex in hull.simplices:\n",
    "    print(simplex)\n",
    "    print((hullpoints[simplex[0]][1], hullpoints[simplex[0]][0]))\n",
    "    print((hullpoints[simplex[1]][1], hullpoints[simplex[1]][0]))\n",
    "    ax.plot((hullpoints[simplex[0]][0], hullpoints[simplex[1]][0]), (hullpoints[simplex[0]][1], hullpoints[simplex[1]][1]), 'dk--')\n",
    "    fig.show()"
   ]
  },
  {
   "cell_type": "code",
   "execution_count": 55,
   "metadata": {},
   "outputs": [
    {
     "name": "stdout",
     "output_type": "stream",
     "text": [
      "3298\n"
     ]
    }
   ],
   "source": [
    "hull_path = Path(hullpoints)\n",
    "i = 0\n",
    "for x,y in zip(contig_data_red['GC'], contig_data_red['average_coverage']):\n",
    "    if hull_path.contains_point((x,y)):\n",
    "        i += 1\n",
    "        ax.scatter(x,y, color='red')\n",
    "        fig.show()\n",
    "print(i)"
   ]
  },
  {
   "cell_type": "code",
   "execution_count": 56,
   "metadata": {},
   "outputs": [],
   "source": [
    "ID_file = open('/home/bram/Documents/manual_binning/hull_IDs.txt', 'w')\n",
    "for index, row in contig_data_red.iterrows():\n",
    "    if hull_path.contains_point((row['GC'], row['average_coverage'])):\n",
    "        print(row['contig'], file=ID_file)\n",
    "ID_file.close()\n",
    "        "
   ]
  }
 ],
 "metadata": {
  "kernelspec": {
   "display_name": "Python 3",
   "language": "python",
   "name": "python3"
  },
  "language_info": {
   "codemirror_mode": {
    "name": "ipython",
    "version": 3
   },
   "file_extension": ".py",
   "mimetype": "text/x-python",
   "name": "python",
   "nbconvert_exporter": "python",
   "pygments_lexer": "ipython3",
   "version": "3.7.3"
  }
 },
 "nbformat": 4,
 "nbformat_minor": 2
}
